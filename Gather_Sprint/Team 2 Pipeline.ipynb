{
 "cells": [
  {
   "cell_type": "markdown",
   "metadata": {
    "colab_type": "text",
    "id": "t6z7ncXirnv7"
   },
   "source": [
    "# Building an ETL Pipeline\n",
    "\n",
    "As the second part of the predict for Gather, you will need to build a pipeline of functions in python which does the following:\n",
    "\n",
    "1. Function to connect to twitter and scrapes \"Eskom_SA\" tweets.\n",
    "<br>\n",
    "<br>\n",
    "2. Cleans/Processes the tweets from the scraped tweets which will create a dataframe with two new columns using the following functions: <br>\n",
    "&nbsp;&nbsp;&nbsp;&nbsp;&nbsp;&nbsp; a) Hashtag Remover from Analyse Functions\n",
    "<br>\n",
    "<br>\n",
    "3. Functions which connects to your SQL database and uploads the tweets into the table you store the tweets in the database."
   ]
  },
  {
   "cell_type": "code",
   "execution_count": 16,
   "metadata": {
    "colab": {},
    "colab_type": "code",
    "id": "jtYowqI_RiBL"
   },
   "outputs": [],
   "source": [
    "# General:\n",
    "import tweepy           # To consume Twitter's API\n",
    "import pandas as pd     # To handle data\n",
    "import numpy as np      # For numerical computation\n",
    "import json\n",
    "# For plotting and visualization:\n",
    "from IPython.display import display\n",
    "import pyodbc\n"
   ]
  },
  {
   "cell_type": "markdown",
   "metadata": {
    "colab_type": "text",
    "id": "EykRIHe8ykYS"
   },
   "source": [
    "# Consumer and Access details\n",
    "\n",
    "Fill in your Consumer and Access details you should have recieved when applying for a Twitter API. "
   ]
  },
  {
   "cell_type": "code",
   "execution_count": 17,
   "metadata": {
    "colab": {},
    "colab_type": "code",
    "id": "lquylmvOnFvt"
   },
   "outputs": [],
   "source": [
    "# Consumer:\n",
    "CONSUMER_KEY    = 'UHKPdUdnN0uQGOfFoQZC9RDkL'\n",
    "CONSUMER_SECRET = 'UWFUR1Q1ajoDIgjAfZaUmNBDMfNCaj7ZInNlO92zURew4AvZns'\n",
    "\n",
    "# Access:\n",
    "ACCESS_TOKEN  = '1282712662565167106-TU1PY6XYWkGiGFaF9WbRttZ4E5XJxj'\n",
    "ACCESS_SECRET = 'wELEl6GVOSMS1xB3ZCMUKpST2ayWYAfXCXopDVSWRRjMc'"
   ]
  },
  {
   "cell_type": "code",
   "execution_count": 18,
   "metadata": {
    "colab": {},
    "colab_type": "code",
    "id": "01RMZH30RiBU"
   },
   "outputs": [],
   "source": [
    "# API's setup:\n",
    "def twitter_setup():\n",
    "    \"\"\"\n",
    "    Utility function to setup the Twitter's API\n",
    "    with access and consumer keys from Twitter.\n",
    "    \"\"\"\n",
    "\n",
    "    # Authentication and access using keys:\n",
    "    auth = tweepy.OAuthHandler(CONSUMER_KEY, CONSUMER_SECRET)\n",
    "    auth.set_access_token(ACCESS_TOKEN, ACCESS_SECRET)\n",
    "\n",
    "    # Return API with authentication:\n",
    "    api = tweepy.API(auth, timeout=1000)\n",
    "    return api"
   ]
  },
  {
   "cell_type": "code",
   "execution_count": 19,
   "metadata": {},
   "outputs": [
    {
     "data": {
      "text/plain": [
       "<tweepy.api.API at 0x1e0af0b3308>"
      ]
     },
     "execution_count": 19,
     "metadata": {},
     "output_type": "execute_result"
    }
   ],
   "source": [
    "twitter_setup()"
   ]
  },
  {
   "cell_type": "markdown",
   "metadata": {
    "colab_type": "text",
    "id": "I5nbkmC9vk8F"
   },
   "source": [
    "# Function 1:\n",
    "\n",
    "Write a function which:\n",
    "- Scrapes _\"Eskom_SA\"_ tweets from Twitter. \n",
    "\n",
    "Function Specifications:\n",
    "- The function should return a dataframe with the scraped tweets with just the \"_Tweets_\" and \"_Date_\". \n",
    "- Will take in the ```consumer key,  consumer secret code, access token``` and ```access secret code```.\n",
    "\n",
    "NOTE:\n",
    "The dataframe should have the same column names as those in your SQL Database table where you store the tweets."
   ]
  },
  {
   "cell_type": "code",
   "execution_count": 20,
   "metadata": {
    "colab": {},
    "colab_type": "code",
    "id": "eF6Vnzl3RiBX"
   },
   "outputs": [],
   "source": [
    "def twitter_df(CONSUMER_KEY, CONSUMER_SECRET, ACCESS_TOKEN, ACCESS_SECRET ):\n",
    "\n",
    "    # Code Here\n",
    "    \n",
    "    \"\"\"\n",
    "    This function uses the Twitter API object to scrape tweets on \"Eskom_SA\" from Twitter\n",
    "    \n",
    "    Args: \n",
    "         consumer_key (string) : twitter consumer key\n",
    "         consumer_secret (string) : twitter consumer secret code\n",
    "         access_token (string) : twitter access token\n",
    "         access_secret (string) : twitter access secret code\n",
    "         \n",
    "    Returns: \n",
    "        dataframe: returns a dataframe with two coloumns (Date and Tweets)\n",
    "        \n",
    "    \"\"\"\n",
    "    \n",
    "    \n",
    "    api = twitter_setup() # This calls the Twitter API and store it in a variable\n",
    "    \n",
    "    tweets = [] # create an empty list to be used later in the function to hold our tweets\n",
    "    \n",
    "    count = 1  \n",
    "    \n",
    "    ''' The below first step collects tweets using the Cursor object from tweepy\n",
    "        - .Cursor() returns an object that you can iterate or loop over to access the data collected\n",
    "        - Each item in the iterator has various attributes that you can access to get information about each tweet'''\n",
    "\n",
    "    for tweet in tweepy.Cursor(api.search, q = '@Eskom_SA', since = '2020-08-10').items(200): # q is the search word from tweet and since is the date the tweet was sent while items is the no of tweets to scrape \n",
    "        \n",
    "        if (not tweet.retweeted) and ('RT @' not in tweet.text): # remove all retweets from the list of scraped tweets\n",
    "        \n",
    "            count += 1 # a counter-incremental\n",
    "\n",
    "            try:\n",
    "\n",
    "                data = [tweet.created_at, tweet.text] # store tweets in a list\n",
    "                data = tuple(data)\n",
    "                tweets.append(data) #append the tweets gathered to the empty tweets-list\n",
    "\n",
    "            except tweepy.TweepError as e: # create an exception to capture any error encountered\n",
    "                print(e.reason) # print the error\n",
    "                continue\n",
    "\n",
    "            except StopIteration:\n",
    "                break\n",
    "        \n",
    "    df = pd.DataFrame(tweets, columns = ['Date', 'Tweets']) # convert the list to a DataFrame with the columns: Date and Tweets\n",
    "    \n",
    "    return df  # this returns the dataframe"
   ]
  },
  {
   "cell_type": "code",
   "execution_count": 27,
   "metadata": {},
   "outputs": [
    {
     "data": {
      "text/plain": [
       "(100, 2)"
      ]
     },
     "execution_count": 27,
     "metadata": {},
     "output_type": "execute_result"
    }
   ],
   "source": [
    "df = twitter_df(CONSUMER_KEY, CONSUMER_SECRET, ACCESS_TOKEN, ACCESS_SECRET )  # we call the function and store it in a variable df\n",
    "df.shape"
   ]
  },
  {
   "cell_type": "markdown",
   "metadata": {
    "colab_type": "text",
    "id": "mkUQUNKzpUN2"
   },
   "source": [
    "# Function 2: Removing hashtags and the municipalities\n",
    "\n",
    "Write a function which:\n",
    "- Uses the function you wrote in the Analyse section to extract the hashtags and municipalities into it's own column in a new data frame. \n",
    "\n",
    "Function Specifications:\n",
    "- The function should take in the pandas dataframe you created in Function 1 and return a new pandas dataframe. "
   ]
  },
  {
   "cell_type": "code",
   "execution_count": 22,
   "metadata": {
    "colab": {},
    "colab_type": "code",
    "id": "UOuThS2kRiBf"
   },
   "outputs": [],
   "source": [
    "def extract_municipality_hashtags(df):\n",
    "    \n",
    "    ### Code Here\n",
    "    \"\"\"\n",
    "    Return a data frame with four columns. Column of tweets, the date of when each tweet was posted, municipality,\n",
    "    and the hashtags used on the tweets\n",
    "    \n",
    "    \"\"\"\n",
    "    mun_dict = {'@CityofCTAlerts' : 'Cape Town',\n",
    "                '@CityPowerJhb' : 'Johannesburg',\n",
    "                '@eThekwiniM' : 'eThekwini' ,\n",
    "                '@EMMInfo' : 'Ekurhuleni',\n",
    "                '@centlecutility' : 'Mangaung',\n",
    "                '@NMBmunicipality' : 'Nelson Mandela Bay',\n",
    "                '@CityTshwane' : 'Tshwane'}\n",
    "    \n",
    "    handles = list(mun_dict.keys())\n",
    "    \n",
    "    df['municipality'] = df['Tweets'].str.extract('({})'.format('|'.join(handles)), expand=False).fillna(np.nan)\n",
    "    df['municipality'] = df['municipality'].map(mun_dict)\n",
    "    \n",
    "    df['hashtags'] = df['Tweets'].str.findall(r'#.*?(?=\\s|$)')\n",
    "    df['hashtags'] = df['hashtags'].apply(lambda x: np.nan if len(x)==0 else [x.lower() for x in x])\n",
    "    \n",
    "    return df"
   ]
  },
  {
   "cell_type": "code",
   "execution_count": 23,
   "metadata": {},
   "outputs": [],
   "source": [
    "df = extract_municipality_hashtags(df)"
   ]
  },
  {
   "cell_type": "code",
   "execution_count": 24,
   "metadata": {},
   "outputs": [],
   "source": [
    "'''\n",
    "The SQL database connection was declared and passed into a variable\n",
    "'''\n",
    "connection = pyodbc.connect(driver='{SQL Server}',\n",
    "                     host='LAPTOP-V2T8356G',\n",
    "                     database='gather_eskom',\n",
    "                     trusted_connection='tcon',\n",
    "                     user='LAPTOP-V2T8356G\\mojel',\n",
    "                     autocommit = True)\n",
    "twitter_table = 'gather_eskom.dbo.twitter_table'\n",
    "cur = connection.cursor()\n",
    "df = df[['Tweets','Date']] # this stores the Data and Tweets column of the tweets dataframe"
   ]
  },
  {
   "cell_type": "markdown",
   "metadata": {
    "colab_type": "text",
    "id": "L9bXQ_k8xOjV"
   },
   "source": [
    "# Function 3: Updating SQL Database with pyODBC\n",
    "\n",
    "Write a function which:\n",
    "- Connects and updates your SQL database. \n",
    "\n",
    "Function Specifications:\n",
    "- The function should take in a pandas dataframe created in Function 2. \n",
    "- Connect to your SQL database.\n",
    "- Update the table you store your tweets in.\n",
    "- Not return any output."
   ]
  },
  {
   "cell_type": "code",
   "execution_count": 25,
   "metadata": {},
   "outputs": [],
   "source": [
    "def pyodbc_twitter(connection, df, twitter_table):\n",
    "    ### Code Here\n",
    "    \"\"\"\n",
    "    This function uses the \"Eskom_SA\" tweets dataframe \n",
    "    and update the SQL database twitter table\n",
    "    \n",
    "    Args: \n",
    "         connection (string) : connection details to SQL database\n",
    "         df (dataframe) : the returned scraped tweets dataframe from Function 2\n",
    "         twitter_table (string) : the SQL server table to be updated with the scraped tweets\n",
    "         \n",
    "    Returns: \n",
    "        This function does not return any output\n",
    "        \n",
    "    \"\"\"\n",
    "    \n",
    "    connection = connection\n",
    "    cursor = cur \n",
    "    insert_query = '''INSERT INTO '''+twitter_table+'''(Tweets, Date)\n",
    "                      VALUES (?,?);''' # using a variable to store the query that will update the SQL server twitter table\n",
    "    for i,j in df.itertuples(index=False): # this is a call of every values in the iterable df\n",
    "        values = (i,j)\n",
    "        cursor.execute(insert_query, values) #this uses the execute method of the cursor to execute the SQL query\n",
    "        connection.commit() # commits the update onto the SQL server database\n",
    "    return None"
   ]
  },
  {
   "cell_type": "code",
   "execution_count": 26,
   "metadata": {},
   "outputs": [],
   "source": [
    "pyodbc_twitter(connection, df, twitter_table)"
   ]
  },
  {
   "cell_type": "markdown",
   "metadata": {},
   "source": [
    "### Trello board link"
   ]
  },
  {
   "cell_type": "markdown",
   "metadata": {},
   "source": [
    "[Trello board](https://trello.com/b/eiaTeGUA/team-2gather)"
   ]
  }
 ],
 "metadata": {
  "colab": {
   "name": "pipeline_student_version.ipynb",
   "provenance": []
  },
  "kernelspec": {
   "display_name": "Python 3",
   "language": "python",
   "name": "python3"
  },
  "language_info": {
   "codemirror_mode": {
    "name": "ipython",
    "version": 3
   },
   "file_extension": ".py",
   "mimetype": "text/x-python",
   "name": "python",
   "nbconvert_exporter": "python",
   "pygments_lexer": "ipython3",
   "version": "3.7.6"
  }
 },
 "nbformat": 4,
 "nbformat_minor": 1
}
